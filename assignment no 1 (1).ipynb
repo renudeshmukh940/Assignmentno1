{
 "cells": [
  {
   "cell_type": "code",
   "execution_count": 1,
   "id": "6bee62f2",
   "metadata": {},
   "outputs": [
    {
     "name": "stdout",
     "output_type": "stream",
     "text": [
      "Hello Python\n"
     ]
    }
   ],
   "source": [
    "#Write a Python program to print \"Hello Python\"?\n",
    "print(\"Hello Python\")"
   ]
  },
  {
   "cell_type": "code",
   "execution_count": 3,
   "id": "1afbc1e9",
   "metadata": {},
   "outputs": [
    {
     "name": "stdout",
     "output_type": "stream",
     "text": [
      "enter the number18\n",
      "enter the number23\n",
      "41\n",
      "0.782608695652174\n"
     ]
    }
   ],
   "source": [
    "#Write a Python program to do arithmetical operations addition and division.?\n",
    "num1=int(input(\"enter the number\"))\n",
    "num2=int(input(\"enter the number\"))\n",
    "#addition\n",
    "add=num1+num2\n",
    "#division\n",
    "div=num1/num2\n",
    "\n",
    "print(add)\n",
    "print(div)"
   ]
  },
  {
   "cell_type": "code",
   "execution_count": 1,
   "id": "92dee165",
   "metadata": {},
   "outputs": [
    {
     "name": "stdout",
     "output_type": "stream",
     "text": [
      "Enter the number34\n",
      "Enter the number23\n",
      "391.0\n"
     ]
    }
   ],
   "source": [
    "#Write a Python program to find the area of a triangle?\n",
    "b=int(input(\"Enter the number\"))\n",
    "h=int(input(\"Enter the number\"))\n",
    "area=b*h*0.5\n",
    "print(area)\n"
   ]
  },
  {
   "cell_type": "code",
   "execution_count": 2,
   "id": "43992a5c",
   "metadata": {},
   "outputs": [
    {
     "name": "stdout",
     "output_type": "stream",
     "text": [
      "enter the num34\n",
      "enter the num45\n",
      "value of num1 before swapping 34\n",
      "value of num1 before swapping 45\n",
      "value  of after swapping: 45\n",
      "value of after swapping 34\n"
     ]
    }
   ],
   "source": [
    "#Write a Python program to swap two variables?\n",
    "num1=int(input(\"enter the num\"))\n",
    "num2=int(input(\"enter the num\"))\n",
    "\n",
    "print(\"value of num1 before swapping\",num1)\n",
    "print(\"value of num1 before swapping\",num2)\n",
    " \n",
    "temp=num1\n",
    "num1=num2\n",
    "num2=temp\n",
    "\n",
    "print(\"value  of after swapping:\",num1)\n",
    "print(\"value of after swapping\",num2)\n",
    "\n"
   ]
  },
  {
   "cell_type": "code",
   "execution_count": 4,
   "id": "616e0b4f",
   "metadata": {},
   "outputs": [
    {
     "name": "stdout",
     "output_type": "stream",
     "text": [
      "5\n"
     ]
    }
   ],
   "source": [
    "#Write a Python program to generate a random number?\n",
    "import random\n",
    "num=random.randint(1,10)\n",
    "print(num)\n"
   ]
  },
  {
   "cell_type": "code",
   "execution_count": null,
   "id": "87d66b25",
   "metadata": {},
   "outputs": [],
   "source": []
  }
 ],
 "metadata": {
  "kernelspec": {
   "display_name": "Python 3 (ipykernel)",
   "language": "python",
   "name": "python3"
  },
  "language_info": {
   "codemirror_mode": {
    "name": "ipython",
    "version": 3
   },
   "file_extension": ".py",
   "mimetype": "text/x-python",
   "name": "python",
   "nbconvert_exporter": "python",
   "pygments_lexer": "ipython3",
   "version": "3.9.13"
  }
 },
 "nbformat": 4,
 "nbformat_minor": 5
}
